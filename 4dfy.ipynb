{
 "cells": [
  {
   "cell_type": "code",
   "execution_count": null,
   "metadata": {},
   "outputs": [],
   "source": [
    "%cd /content\n",
    "!git clone -b dev https://github.com/camenduru/4dfy\n",
    "%cd /content/4dfy\n",
    "\n",
    "!git clone https://github.com/bytedance/MVDream extern/MVDream\n",
    "!pip install -e extern/MVDream \n",
    "\n",
    "!pip install -q pytorch_lightning jaxtyping opencv-python==4.8.0.76 diffusers==0.20.2 imageio==2.31.6 matplotlib==3.7.1\n",
    "!pip install -q https://huggingface.co/camenduru/CoDeF/resolve/main/tinycudann-1.7-cp310-cp310-linux_x86_64.whl\n",
    "!pip install -q libigl trimesh wandb accelerate\n",
    "!pip install -q git+https://github.com/NVlabs/nvdiffrast.git\n",
    "!pip install -q nerfacc -f https://nerfacc-bucket.s3.us-west-2.amazonaws.com/whl/torch-2.0.0_cu118.html\n",
    "!pip install -q https://github.com/camenduru/4dfy/releases/download/v1.0/tinycudann-1.7-cp310-cp310-linux_x86_64.whl\n",
    "\n",
    "import os\n",
    "os.environ['HF_HOME'] = '/content/cache/huggingface'"
   ]
  },
  {
   "cell_type": "code",
   "execution_count": null,
   "metadata": {},
   "outputs": [],
   "source": [
    "# Stage 1\n",
    "!python launch.py --config configs/fourdfy_stage_1.yaml --train --gpu 0 \\\n",
    "                  exp_root_dir=/content/4dfy/output seed=0 \\\n",
    "                  system.prompt_processor.prompt=\"a dog riding a skateboard\""
   ]
  }
 ],
 "metadata": {
  "language_info": {
   "name": "python"
  }
 },
 "nbformat": 4,
 "nbformat_minor": 2
}
