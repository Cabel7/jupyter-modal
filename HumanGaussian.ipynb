{
 "cells": [
  {
   "cell_type": "code",
   "execution_count": null,
   "metadata": {},
   "outputs": [],
   "source": [
    "import os\n",
    "os.environ['HF_HOME'] = '/content/cache/huggingface'\n",
    "\n",
    "%cd /content\n",
    "!git clone -b dev https://github.com/camenduru/HumanGaussian\n",
    "%cd /content/HumanGaussian\n",
    "\n",
    "# !pip install -q torch==2.0.1+cu118 torchvision==0.15.2+cu118 torchaudio==2.0.2+cu118 torchtext==0.15.2 torchdata==0.6.1 --extra-index-url https://download.pytorch.org/whl/cu118 -U\n",
    "!pip install -q lightning omegaconf jaxtyping libigl diffusers einops trimesh wandb smplx accelerate plyfile\n",
    "!pip install -q https://huggingface.co/camenduru/CoDeF/resolve/main/tinycudann-1.7-cp310-cp310-linux_x86_64.whl\n",
    "!pip install -q git+https://github.com/ashawkey/envlight.git\n",
    "!pip install -q git+https://github.com/NVlabs/nvdiffrast.git\n",
    "!pip install -q nerfacc -f https://nerfacc-bucket.s3.us-west-2.amazonaws.com/whl/torch-2.0.0_cu118.html\n",
    "!pip install -q transformers opencv-python==4.8.0.76 matplotlib==3.7.1\n",
    "\n",
    "!git clone --recursive https://github.com/ashawkey/diff-gaussian-rasterization\n",
    "# !pip install ./diff-gaussian-rasterization\n",
    "!pip install -q https://github.com/camenduru/diff-gaussian-rasterization/releases/download/v1.0/diff_gaussian_rasterization-0.0.0-cp310-cp310-linux_x86_64.1.whl\n",
    "# !pip install ./gaussiansplatting/submodules/simple-knn\n",
    "!pip install -q https://github.com/camenduru/diff-gaussian-rasterization/releases/download/v1.0/simple_knn-0.0.0-cp310-cp310-linux_x86_64.1.whl\n",
    "\n",
    "!apt -y install -qq aria2\n",
    "# According to license we have to register and download the models at https://smpl-x.is.tue.mpg.de/register.php\n",
    "!aria2c --console-log-level=error -c -x 16 -s 16 -k 1M https://huggingface.co/camenduru/SMPLer-X/resolve/main/SMPLX_NEUTRAL.npz -d /content/smplx -o SMPLX_NEUTRAL.npz\n",
    "!aria2c --console-log-level=error -c -x 16 -s 16 -k 1M https://huggingface.co/camenduru/HumanGaussian/raw/main/unet_ema/config.json -d /content/texture-structure-joint/unet_ema -o config.json\n",
    "!aria2c --console-log-level=error -c -x 16 -s 16 -k 1M https://huggingface.co/camenduru/HumanGaussian/resolve/main/unet_ema/diffusion_pytorch_model.bin -d /content/texture-structure-joint/unet_ema -o diffusion_pytorch_model.bin\n",
    "\n",
    "from diffusers import DiffusionPipeline\n",
    "DiffusionPipeline.download(\"stabilityai/stable-diffusion-2-base\")"
   ]
  },
  {
   "cell_type": "code",
   "execution_count": null,
   "metadata": {},
   "outputs": [],
   "source": [
    "%cd /content/HumanGaussian\n",
    "!python launch.py --config configs/test.yaml --train --gpu 0 system.prompt_processor.prompt=\"A boy with a beanie wearing a hoodie and joggers\""
   ]
  }
 ],
 "metadata": {
  "language_info": {
   "name": "python"
  }
 },
 "nbformat": 4,
 "nbformat_minor": 2
}
